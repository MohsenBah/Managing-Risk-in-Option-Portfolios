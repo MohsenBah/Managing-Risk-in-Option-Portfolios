{
 "cells": [
  {
   "cell_type": "code",
   "execution_count": 111,
   "metadata": {},
   "outputs": [],
   "source": [
    "import numpy as np"
   ]
  },
  {
   "cell_type": "code",
   "execution_count": 155,
   "metadata": {},
   "outputs": [
    {
     "name": "stdout",
     "output_type": "stream",
     "text": [
      "please input Simpson node n:11\n",
      "please input the left value of interval:6\n",
      "please input the right value of interval:0\n"
     ]
    }
   ],
   "source": [
    "if __name__ == '__main__':\n",
    "    N=int(input('please input Simpson node n:')) \n",
    "    a=float(input('please input the left value of interval:'))\n",
    "    b=float(input('please input the right value of interval:'))"
   ]
  },
  {
   "cell_type": "code",
   "execution_count": 156,
   "metadata": {},
   "outputs": [],
   "source": [
    "def simps(a,b,N):\n",
    "    if N % 2 != 1:\n",
    "        raise ValueError(\"N must be an odd integer.\")\n",
    "    dx = (b-a)/(N-1)\n",
    "    A=np.zeros(N)\n",
    "    for i in range(0,N):\n",
    "        if i==0:\n",
    "            A[0]=dx/3\n",
    "        elif i==N-1:\n",
    "            A[N-1]=dx/3\n",
    "        elif i % 2 ==1:\n",
    "            A[i]=(4/3)*dx\n",
    "        else:\n",
    "            A[i]=(2/3)*dx\n",
    "    return A, dx"
   ]
  },
  {
   "cell_type": "code",
   "execution_count": 157,
   "metadata": {},
   "outputs": [],
   "source": [
    "A =simps(a,b,N)[0] #coefficent \n",
    "dx= simps(a,b,N)[1] #dx"
   ]
  },
  {
   "cell_type": "code",
   "execution_count": 158,
   "metadata": {},
   "outputs": [],
   "source": [
    "x=np.zeros(N)\n",
    "for i in range(0,N):\n",
    "    x[i]=a+dx*(i)"
   ]
  },
  {
   "cell_type": "code",
   "execution_count": 159,
   "metadata": {},
   "outputs": [
    {
     "data": {
      "text/plain": [
       "(array([6. , 5.4, 4.8, 4.2, 3.6, 3. , 2.4, 1.8, 1.2, 0.6, 0. ]),\n",
       " array([-0.2, -0.8, -0.4, -0.8, -0.4, -0.8, -0.4, -0.8, -0.4, -0.8, -0.2]))"
      ]
     },
     "execution_count": 159,
     "metadata": {},
     "output_type": "execute_result"
    }
   ],
   "source": [
    "x, A"
   ]
  },
  {
   "cell_type": "code",
   "execution_count": 160,
   "metadata": {},
   "outputs": [
    {
     "name": "stdout",
     "output_type": "stream",
     "text": [
      "the values of kernel function is :\n",
      " [[ 0.84385396  0.39349087 -0.19432991 -0.71426565 -0.98468786 -0.91113026\n",
      "  -0.51928865  0.05395542  0.60835131  0.95023259  0.96017029]\n",
      " [ 0.39349087 -0.19432991 -0.71426565 -0.98468786 -0.91113026 -0.51928865\n",
      "   0.05395542  0.60835131  0.95023259  0.96017029  0.63469288]\n",
      " [-0.19432991 -0.71426565 -0.98468786 -0.91113026 -0.51928865  0.05395542\n",
      "   0.60835131  0.95023259  0.96017029  0.63469288  0.08749898]\n",
      " [-0.71426565 -0.98468786 -0.91113026 -0.51928865  0.05395542  0.60835131\n",
      "   0.95023259  0.96017029  0.63469288  0.08749898 -0.49026082]\n",
      " [-0.98468786 -0.91113026 -0.51928865  0.05395542  0.60835131  0.95023259\n",
      "   0.96017029  0.63469288  0.08749898 -0.49026082 -0.89675842]\n",
      " [-0.91113026 -0.51928865  0.05395542  0.60835131  0.95023259  0.96017029\n",
      "   0.63469288  0.08749898 -0.49026082 -0.89675842 -0.9899925 ]\n",
      " [-0.51928865  0.05395542  0.60835131  0.95023259  0.96017029  0.63469288\n",
      "   0.08749898 -0.49026082 -0.89675842 -0.9899925  -0.73739372]\n",
      " [ 0.05395542  0.60835131  0.95023259  0.96017029  0.63469288  0.08749898\n",
      "  -0.49026082 -0.89675842 -0.9899925  -0.73739372 -0.22720209]\n",
      " [ 0.60835131  0.95023259  0.96017029  0.63469288  0.08749898 -0.49026082\n",
      "  -0.89675842 -0.9899925  -0.73739372 -0.22720209  0.36235775]\n",
      " [ 0.95023259  0.96017029  0.63469288  0.08749898 -0.49026082 -0.89675842\n",
      "  -0.9899925  -0.73739372 -0.22720209  0.36235775  0.82533561]\n",
      " [ 0.96017029  0.63469288  0.08749898 -0.49026082 -0.89675842 -0.9899925\n",
      "  -0.73739372 -0.22720209  0.36235775  0.82533561  1.        ]]\n"
     ]
    }
   ],
   "source": [
    "k=np.zeros((N, N))\n",
    "for i in range (1,N+1):\n",
    "    for j in range (1,N+1):\n",
    "        k[i-1,j-1]=np.cos((x[i-1]+x[j-1]))\n",
    "print (\"the values of kernel function is :\\n\",k)"
   ]
  },
  {
   "cell_type": "code",
   "execution_count": 161,
   "metadata": {},
   "outputs": [
    {
     "name": "stdout",
     "output_type": "stream",
     "text": [
      "the values of function f is : \n",
      " [0. 0. 0. 0. 0. 0. 0. 0. 0. 0. 0.]\n"
     ]
    }
   ],
   "source": [
    "f=np.zeros(N)\n",
    "for i in range(1,N+1):\n",
    "    f[i-1]=0\n",
    "print (\"the values of function f is : \\n\",f)"
   ]
  },
  {
   "cell_type": "code",
   "execution_count": 162,
   "metadata": {},
   "outputs": [],
   "source": [
    "def solve_eigen(): \n",
    "    B=np.zeros((N,N))\n",
    "    for i in range(1,N+1):\n",
    "        for j in range(1,N+1):\n",
    "                if i == j:\n",
    "                    B[i-1,j-1]=A[j-1]*k[i-1,j-1]\n",
    "                else:\n",
    "                    B[i-1,j-1]=A[j-1]*k[i-1,j-1]\n",
    "    eigenval, eigenvec=np.linalg.eig(B) \n",
    "    return eigenval , eigenvec"
   ]
  },
  {
   "cell_type": "code",
   "execution_count": 163,
   "metadata": {},
   "outputs": [
    {
     "data": {
      "text/plain": [
       "(array([-2.86373850e+00+0.00000000e+00j,  3.13573937e+00+0.00000000e+00j,\n",
       "        -3.75509105e-16+0.00000000e+00j, -5.26601768e-16+0.00000000e+00j,\n",
       "         3.25514957e-16+0.00000000e+00j, -1.45797017e-16+0.00000000e+00j,\n",
       "         1.45193576e-17+9.83495601e-17j,  1.45193576e-17-9.83495601e-17j,\n",
       "         1.03876468e-16+0.00000000e+00j, -5.17443403e-17+0.00000000e+00j,\n",
       "        -2.28763586e-17+0.00000000e+00j]),\n",
       " array([[-0.40062575+0.j        , -0.12487325+0.j        ,\n",
       "         -0.61042551+0.j        , -0.4629532 +0.j        ,\n",
       "          0.52152264+0.j        , -0.27733349+0.j        ,\n",
       "          0.28498064-0.2623637j ,  0.28498064+0.2623637j ,\n",
       "         -0.47480632+0.j        , -0.48444138+0.j        ,\n",
       "          0.10986568+0.j        ],\n",
       "        [-0.26643755+0.j        , -0.33952998+0.j        ,\n",
       "         -0.06806848+0.j        ,  0.26117278+0.j        ,\n",
       "         -0.40931345+0.j        ,  0.03135228+0.j        ,\n",
       "         -0.01243668-0.02021409j, -0.01243668+0.02021409j,\n",
       "         -0.04878233+0.j        , -0.06428937+0.j        ,\n",
       "          0.03594528+0.j        ],\n",
       "        [-0.03917504+0.j        , -0.43557912+0.j        ,\n",
       "          0.13251573+0.j        , -0.55124219+0.j        ,\n",
       "         -0.27287563+0.j        ,  0.33632067+0.j        ,\n",
       "          0.00340696+0.32532644j,  0.00340696-0.32532644j,\n",
       "          0.45428257+0.j        ,  0.18478017+0.j        ,\n",
       "         -0.04433165+0.j        ],\n",
       "        [ 0.20177243+0.j        , -0.37946794+0.j        ,\n",
       "          0.3112993 +0.j        ,  0.15946792+0.j        ,\n",
       "          0.25978113+0.j        ,  0.03457258+0.j        ,\n",
       "          0.20784984+0.00412706j,  0.20784984-0.00412706j,\n",
       "          0.02631648+0.j        , -0.2207059 +0.j        ,\n",
       "          0.04452244+0.j        ],\n",
       "        [ 0.37223499+0.j        , -0.19079769+0.j        ,\n",
       "         -0.61777045+0.j        ,  0.48921062+0.j        ,\n",
       "          0.37813719+0.j        ,  0.34775092+0.j        ,\n",
       "         -0.27822063+0.02067471j, -0.27822063-0.02067471j,\n",
       "          0.25436475+0.j        ,  0.26472572+0.j        ,\n",
       "         -0.24737408+0.j        ],\n",
       "        [ 0.41266516+0.j        ,  0.06452368+0.j        ,\n",
       "         -0.24939515+0.j        ,  0.05251283+0.j        ,\n",
       "         -0.28587431+0.j        , -0.18439787+0.j        ,\n",
       "          0.19954593+0.04315503j,  0.19954593-0.04315503j,\n",
       "         -0.16490679+0.j        , -0.07096479+0.j        ,\n",
       "          0.30668373+0.j        ],\n",
       "        [ 0.30893951+0.j        ,  0.29730507+0.j        ,\n",
       "          0.07591859+0.j        , -0.22301783+0.j        ,\n",
       "         -0.15576287+0.j        , -0.47102225+0.j        ,\n",
       "          0.14653949-0.02459705j,  0.14653949+0.02459705j,\n",
       "          0.40826779+0.j        , -0.26788634+0.j        ,\n",
       "          0.0593786 +0.j        ],\n",
       "        [ 0.09729241+0.j        ,  0.42622925+0.j        ,\n",
       "          0.20475269+0.j        ,  0.00558234+0.j        ,\n",
       "          0.03019638+0.j        ,  0.590454  +0.j        ,\n",
       "         -0.25758368+0.01698791j, -0.25758368-0.01698791j,\n",
       "         -0.16866312+0.j        ,  0.1595169 +0.j        ,\n",
       "          0.04502294+0.j        ],\n",
       "        [-0.14834173+0.j        ,  0.40625929+0.j        ,\n",
       "         -0.04291245+0.j        ,  0.08809483+0.j        ,\n",
       "         -0.35005773+0.j        , -0.17883686+0.j        ,\n",
       "          0.57235706+0.j        ,  0.57235706-0.j        ,\n",
       "          0.49981024+0.j        , -0.252107  +0.j        ,\n",
       "         -0.29089101+0.j        ],\n",
       "        [-0.34215584+0.j        ,  0.24437127+0.j        ,\n",
       "         -0.11414336+0.j        ,  0.28969219+0.j        ,\n",
       "          0.21424939+0.j        , -0.04803549+0.j        ,\n",
       "          0.06740157+0.21595356j,  0.06740157-0.21595356j,\n",
       "          0.09092648+0.j        , -0.11094402+0.j        ,\n",
       "          0.04573474+0.j        ],\n",
       "        [-0.41644507+0.j        , -0.00288267+0.j        ,\n",
       "         -0.0434045 +0.j        , -0.0680451 +0.j        ,\n",
       "         -0.01415353+0.j        ,  0.2192604 +0.j        ,\n",
       "         -0.19913857-0.27140559j, -0.19913857+0.27140559j,\n",
       "          0.1414589 +0.j        ,  0.65584882+0.j        ,\n",
       "          0.85742577+0.j        ]]))"
      ]
     },
     "execution_count": 163,
     "metadata": {},
     "output_type": "execute_result"
    }
   ],
   "source": [
    "lamda=np.zeros(N)\n",
    "lamda=solve_eigen()\n",
    "lamda"
   ]
  },
  {
   "cell_type": "code",
   "execution_count": 164,
   "metadata": {},
   "outputs": [
    {
     "data": {
      "text/plain": [
       "array([-0.26643755+0.j        , -0.33952998+0.j        ,\n",
       "       -0.06806848+0.j        ,  0.26117278+0.j        ,\n",
       "       -0.40931345+0.j        ,  0.03135228+0.j        ,\n",
       "       -0.01243668-0.02021409j, -0.01243668+0.02021409j,\n",
       "       -0.04878233+0.j        , -0.06428937+0.j        ,\n",
       "        0.03594528+0.j        ])"
      ]
     },
     "execution_count": 164,
     "metadata": {},
     "output_type": "execute_result"
    }
   ],
   "source": [
    "ya=lamda[1][1]\n",
    "ya"
   ]
  },
  {
   "cell_type": "code",
   "execution_count": 165,
   "metadata": {},
   "outputs": [
    {
     "data": {
      "text/plain": [
       "array([ 0.96017029,  0.63469288,  0.08749898, -0.49026082, -0.89675842,\n",
       "       -0.9899925 , -0.73739372, -0.22720209,  0.36235775,  0.82533561,\n",
       "        1.        ])"
      ]
     },
     "execution_count": 165,
     "metadata": {},
     "output_type": "execute_result"
    }
   ],
   "source": [
    "yy=np.zeros(N)\n",
    "for i in range(1,N+1):\n",
    "    yy[i-1]=np.cos(x[i-1])\n",
    "yy\n"
   ]
  },
  {
   "cell_type": "code",
   "execution_count": 173,
   "metadata": {},
   "outputs": [
    {
     "name": "stderr",
     "output_type": "stream",
     "text": [
      "/Users/mohsenbahremani/opt/anaconda3/lib/python3.7/site-packages/numpy/core/_asarray.py:85: ComplexWarning: Casting complex values to real discards the imaginary part\n",
      "  return array(a, dtype, copy=False, order=order)\n"
     ]
    },
    {
     "data": {
      "image/png": "[encoded data removed]",
      "text/plain": [
       "<Figure size 432x288 with 1 Axes>"
      ]
     },
     "metadata": {
      "needs_background": "light"
     },
     "output_type": "display_data"
    }
   ],
   "source": [
    "import matplotlib.pyplot as plt\n",
    "plt.plot(x, 3*lamda[1][6], 'r--', x, yy, 'bs')\n",
    "plt.show();"
   ]
  },
  {
   "cell_type": "code",
   "execution_count": null,
   "metadata": {},
   "outputs": [],
   "source": [
    "import numpy as np\n",
    "\n",
    "### Input variable\n",
    "\n",
    "if __name__ == '__main__':\n",
    "    N=int(input('please input Simpson node n:')) \n",
    "    a=float(input('please input the left value of interval:'))\n",
    "    b=float(input('please input the right value of interval:'))\n",
    "\n",
    "#### Simpson’s rule \n",
    "\n",
    "def simps(a,b,N):\n",
    "    if N % 2 != 1:\n",
    "        raise ValueError(\"N must be an odd integer.\")\n",
    "    dx = (b-a)/(N-1)\n",
    "    A=np.zeros(N)\n",
    "    for i in range(0,N):\n",
    "        if i==0:\n",
    "            A[0]=dx/3\n",
    "        elif i==N-1:\n",
    "            A[N-1]=dx/3\n",
    "        elif i % 2 ==1:\n",
    "            A[i]=(4/3)*dx\n",
    "        else:\n",
    "            A[i]=(2/3)*dx\n",
    "    return A, dx\n",
    "A =simps(a,b,N)[0] #coefficent \n",
    "dx= simps(a,b,N)[1] #dx\n",
    "x=np.zeros(N)\n",
    "for i in range(0,N):\n",
    "    x[i]=a+dx*(i)\n",
    "\n",
    "### kernel \n",
    "k=np.zeros((N, N))\n",
    "for i in range (1,N+1):\n",
    "    for j in range (1,N+1):\n",
    "        k[i-1,j-1]=np.cos((x[i-1]+x[j-1]))\n",
    "\n",
    "### f(x),  Right hand side = 0\n",
    "f=np.zeros(N)\n",
    "for i in range(1,N+1):\n",
    "    f[i-1]=0\n",
    "\n",
    "### Solving Eigenvalue and eigen function\n",
    "    \n",
    "def solve_eigen(): \n",
    "    B=np.zeros((N,N))\n",
    "    for i in range(1,N+1):\n",
    "        for j in range(1,N+1):\n",
    "                if i == j:\n",
    "                    B[i-1,j-1]=A[j-1]*k[i-1,j-1]\n",
    "                else:\n",
    "                    B[i-1,j-1]=A[j-1]*k[i-1,j-1]\n",
    "    eigenval, eigenvec=np.linalg.eig(B) \n",
    "    return eigenval , eigenvec\n",
    "import matplotlib.pyplot as plt\n",
    "plt.plot(x, 3*lamda[1][6], 'r--', x, yy, 'bs')\n",
    "plt.show();"
   ]
  }
 ],
 "metadata": {
  "kernelspec": {
   "display_name": "Python 3 (ipykernel)",
   "language": "python",
   "name": "python3"
  },
  "language_info": {
   "codemirror_mode": {
    "name": "ipython",
    "version": 3
   },
   "file_extension": ".py",
   "mimetype": "text/x-python",
   "name": "python",
   "nbconvert_exporter": "python",
   "pygments_lexer": "ipython3",
   "version": "3.8.8"
  }
 },
 "nbformat": 4,
 "nbformat_minor": 2
}
