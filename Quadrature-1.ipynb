{
 "cells": [
  {
   "cell_type": "code",
   "execution_count": 34,
   "metadata": {},
   "outputs": [],
   "source": [
    "import numpy as np"
   ]
  },
  {
   "cell_type": "code",
   "execution_count": 35,
   "metadata": {},
   "outputs": [
    {
     "name": "stdout",
     "output_type": "stream",
     "text": [
      "please input Simpson node n:31\n",
      "please input the left value of interval:0\n",
      "please input the right value of interval:5\n"
     ]
    }
   ],
   "source": [
    "if __name__ == '__main__':\n",
    "    N=int(input('please input Simpson node n:')) \n",
    "    a=float(input('please input the left value of interval:'))\n",
    "    b=float(input('please input the right value of interval:'))"
   ]
  },
  {
   "cell_type": "code",
   "execution_count": 36,
   "metadata": {},
   "outputs": [],
   "source": [
    "def simps(a,b,N):\n",
    "    if N % 2 != 1:\n",
    "        raise ValueError(\"N must be an odd integer.\")\n",
    "    dx = (b-a)/(N-1)\n",
    "    A=np.zeros(N)\n",
    "    for i in range(0,N):\n",
    "        if i==0:\n",
    "            A[0]=dx/3\n",
    "        elif i==N-1:\n",
    "            A[N-1]=dx/3\n",
    "        elif i % 2 ==1:\n",
    "            A[i]=(4/3)*dx\n",
    "        else:\n",
    "            A[i]=(2/3)*dx\n",
    "    return A, dx"
   ]
  },
  {
   "cell_type": "code",
   "execution_count": 37,
   "metadata": {},
   "outputs": [],
   "source": [
    "A =simps(a,b,N)[0] #coefficent \n",
    "dx= simps(a,b,N)[1] #dx"
   ]
  },
  {
   "cell_type": "code",
   "execution_count": 38,
   "metadata": {},
   "outputs": [],
   "source": [
    "x=np.zeros(N)\n",
    "for i in range(0,N):\n",
    "    x[i]=a+dx*(i)"
   ]
  },
  {
   "cell_type": "code",
   "execution_count": 39,
   "metadata": {},
   "outputs": [
    {
     "data": {
      "text/plain": [
       "(array([0.        , 0.16666667, 0.33333333, 0.5       , 0.66666667,\n",
       "        0.83333333, 1.        , 1.16666667, 1.33333333, 1.5       ,\n",
       "        1.66666667, 1.83333333, 2.        , 2.16666667, 2.33333333,\n",
       "        2.5       , 2.66666667, 2.83333333, 3.        , 3.16666667,\n",
       "        3.33333333, 3.5       , 3.66666667, 3.83333333, 4.        ,\n",
       "        4.16666667, 4.33333333, 4.5       , 4.66666667, 4.83333333,\n",
       "        5.        ]),\n",
       " array([0.05555556, 0.22222222, 0.11111111, 0.22222222, 0.11111111,\n",
       "        0.22222222, 0.11111111, 0.22222222, 0.11111111, 0.22222222,\n",
       "        0.11111111, 0.22222222, 0.11111111, 0.22222222, 0.11111111,\n",
       "        0.22222222, 0.11111111, 0.22222222, 0.11111111, 0.22222222,\n",
       "        0.11111111, 0.22222222, 0.11111111, 0.22222222, 0.11111111,\n",
       "        0.22222222, 0.11111111, 0.22222222, 0.11111111, 0.22222222,\n",
       "        0.05555556]))"
      ]
     },
     "execution_count": 39,
     "metadata": {},
     "output_type": "execute_result"
    }
   ],
   "source": [
    "x, A"
   ]
  },
  {
   "cell_type": "code",
   "execution_count": 40,
   "metadata": {},
   "outputs": [
    {
     "name": "stdout",
     "output_type": "stream",
     "text": [
      "the values of kernel function is :\n",
      " [[ 0.          0.          0.          0.          0.          0.\n",
      "   0.          0.          0.          0.         -0.         -0.\n",
      "  -0.         -0.         -0.         -0.         -0.         -0.\n",
      "  -0.         -0.         -0.         -0.         -0.         -0.\n",
      "  -0.         -0.         -0.         -0.         -0.          0.\n",
      "   0.        ]\n",
      " [ 0.16589613  0.16359735  0.1567647   0.14558755  0.13037566  0.11155059\n",
      "   0.08963406  0.06523346  0.039025    0.01173503 -0.01588017 -0.04305527\n",
      "  -0.06903715 -0.09310577 -0.1145941  -0.13290663 -0.14753584 -0.15807631\n",
      "  -0.16423593 -0.16584399 -0.16285592 -0.15535454 -0.14354774 -0.12776272\n",
      "  -0.10843695 -0.086106   -0.06138876 -0.03497021 -0.00758251  0.02001532\n",
      "   0.04705846]\n",
      " [ 0.3271947   0.32266084  0.3091849   0.28714036  0.25713814  0.22000972\n",
      "   0.17678405  0.12865907  0.07696849  0.02314484 -0.03132024 -0.08491732\n",
      "  -0.13616104 -0.18363125 -0.2260124  -0.26212994 -0.29098294 -0.31177176\n",
      "  -0.32392029 -0.32709185 -0.32119853 -0.30640366 -0.28311727 -0.25198469\n",
      "  -0.21386873 -0.1698257  -0.12107621 -0.06897127 -0.01495489  0.03947595\n",
      "   0.09281276]\n",
      " [ 0.47942554  0.47278225  0.45303649  0.42073549  0.37677442  0.3223716\n",
      "   0.25903472  0.18851908  0.1127789   0.03391322 -0.04589231 -0.12442601\n",
      "  -0.19951142 -0.26906767 -0.33116709 -0.38408871 -0.42636587 -0.45682692\n",
      "  -0.47462769 -0.47927484 -0.47063959 -0.44896125 -0.41484061 -0.36922327\n",
      "  -0.31337344 -0.24883893 -0.17740822 -0.10106089 -0.02191281  0.05784255\n",
      "   0.1359949 ]\n",
      " [ 0.6183698   0.6098012   0.58433284  0.54267056  0.48596895  0.41579943\n",
      "   0.33410663  0.24315456  0.14546381  0.04374175 -0.05919255 -0.16048642\n",
      "  -0.25733264 -0.34704726 -0.42714397 -0.49540302 -0.54993269 -0.58922179\n",
      "  -0.61218147 -0.61817543 -0.60703756 -0.57907654 -0.53506725 -0.47622937\n",
      "  -0.40419348 -0.32095596 -0.22882361 -0.13034976 -0.02826345  0.07460614\n",
      "   0.17540813]\n",
      " [ 0.74017685  0.72992039  0.69943526  0.6495663   0.58169556  0.49770398\n",
      "   0.39991926  0.29105137  0.17411741  0.05235804 -0.07085235 -0.19209918\n",
      "  -0.30802226 -0.41540895 -0.51128319 -0.59298796 -0.65825894 -0.70528724\n",
      "  -0.73276953 -0.73994419 -0.72661238 -0.69314356 -0.64046529 -0.57003746\n",
      "  -0.48381188 -0.38417816 -0.2738975  -0.15602617 -0.03383081  0.08930213\n",
      "   0.20996018]\n",
      " [ 0.84147098  0.82981092  0.79515385  0.73846026  0.66130133  0.56581539\n",
      "   0.45464871  0.33088211  0.19794559  0.0595233  -0.08054859 -0.21838819\n",
      "  -0.35017549 -0.47225818 -0.58125293 -0.67413911 -0.7483425  -0.80180668\n",
      "  -0.83304996 -0.84120648 -0.82605019 -0.78800113 -0.72811377 -0.6480478\n",
      "  -0.55002214 -0.43675342 -0.31138071 -0.17737855 -0.0384606   0.10152323\n",
      "   0.2386935 ]\n",
      " [ 0.91944498  0.90670444  0.86883592  0.80688888  0.7225801   0.61824606\n",
      "   0.49677824  0.36154294  0.21628801  0.06503896 -0.08801254 -0.2386249\n",
      "  -0.38262412 -0.51601947 -0.6351141  -0.73660747 -0.81768685 -0.87610523\n",
      "  -0.91024363 -0.91915596 -0.90259523 -0.8610204  -0.79558364 -0.70809845\n",
      "  -0.60098935 -0.4772247  -0.34023447 -0.19381514 -0.04202451  0.11093078\n",
      "   0.26081177]\n",
      " [ 0.9719379   0.95846998  0.91843947  0.85295575  0.76383361  0.65354295\n",
      "   0.52514029  0.38218414  0.22863631  0.06875217 -0.09303734 -0.25224846\n",
      "  -0.40446888 -0.54548004 -0.67137402 -0.77866184 -0.8643702  -0.9261238\n",
      "  -0.96221123 -0.97163239 -0.95412617 -0.91017775 -0.84100508 -0.74852518\n",
      "  -0.63530101 -0.5044704  -0.35965912 -0.20488043 -0.04442377  0.11726403\n",
      "   0.27570203]\n",
      " [ 0.99749499  0.98367293  0.94258982  0.87538421  0.7839186   0.67072784\n",
      "   0.53894884  0.39223366  0.2346483   0.07056    -0.09548376 -0.25888133\n",
      "  -0.41510438 -0.55982343 -0.68902778 -0.79913674 -0.88709879 -0.9504762\n",
      "  -0.98751255 -0.99718144 -0.9792149  -0.93411085 -0.86311929 -0.76820764\n",
      "  -0.65200623 -0.51773543 -0.36911635 -0.21026775 -0.04559189  0.12034749\n",
      "   0.28295161]\n",
      " [ 0.99540796  0.98161482  0.94061766  0.87355267  0.78227843  0.6693245\n",
      "   0.53782121  0.391413    0.23415735  0.07041237 -0.09528398 -0.25833968\n",
      "  -0.41423587 -0.55865212 -0.68758615 -0.79746473 -0.88524274 -0.94848755\n",
      "  -0.98544641 -0.99509506 -0.97716612 -0.93215644 -0.86131341 -0.76660034\n",
      "  -0.65064206 -0.51665219 -0.36834406 -0.20982782 -0.0454965   0.12009569\n",
      "   0.2823596 ]\n",
      " [ 0.96573465  0.95235269  0.91257767  0.84751189  0.75895856  0.64937181\n",
      "   0.52178866  0.37974491  0.22717708  0.06831337 -0.09244355 -0.25063852\n",
      "  -0.40188742 -0.5419986  -0.66708907 -0.77369215 -0.85885349 -0.92021295\n",
      "  -0.95607006 -0.96543109 -0.94803661 -0.90436867 -0.83563749 -0.74374783\n",
      "  -0.6312463  -0.50125069 -0.35736365 -0.20357281 -0.04414024  0.11651561\n",
      "   0.2739424 ]\n",
      " [ 0.90929743  0.8966975   0.85924692  0.79798357  0.71460526  0.61142272\n",
      "   0.4912955   0.35755273  0.21390092  0.06432116 -0.08704118 -0.23599129\n",
      "  -0.37840125 -0.51032437 -0.6281046  -0.72847783 -0.80866236 -0.866436\n",
      "  -0.90019763 -0.9090116  -0.89263365 -0.85151766 -0.7868031  -0.70028345\n",
      "  -0.59435646 -0.47195776 -0.33647944 -0.19167608 -0.0415607   0.10970648\n",
      "   0.2579333 ]\n",
      " [ 0.82766035  0.81619165  0.7821034   0.72634029  0.65044773  0.55652895\n",
      "   0.4471868   0.32545151  0.19469681  0.05854638 -0.07922659 -0.2148039\n",
      "  -0.34442824 -0.46450725 -0.57171313 -0.66307481 -0.73606034 -0.78864704\n",
      "  -0.81937754 -0.82740019 -0.81249265 -0.77506807 -0.71616361 -0.63741173\n",
      "  -0.54099491 -0.42958521 -0.30627018 -0.17446733 -0.03782936  0.09985699\n",
      "   0.23477594]\n",
      " [ 0.72308588  0.71306625  0.68328503  0.63456756  0.56826398  0.4862118\n",
      "   0.39068497  0.28433088  0.17009697  0.05114907 -0.06921635 -0.18766353\n",
      "  -0.3009099  -0.40581699 -0.49947746 -0.57929564 -0.64305949 -0.68900188\n",
      "  -0.7158496  -0.72285859 -0.70983461 -0.67713861 -0.6256767  -0.55687508\n",
      "  -0.47264047 -0.37530733 -0.2675731  -0.15242347 -0.03304964  0.08724011\n",
      "   0.20511212]\n",
      " [ 0.59847214  0.59017925  0.56553041  0.52520872  0.47033163  0.40242\n",
      "   0.32335588  0.23533043  0.14078313  0.04233424 -0.05728788 -0.15532235\n",
      "  -0.24905229 -0.33588011 -0.4133995  -0.47946214 -0.53223718 -0.57026204\n",
      "  -0.59248293 -0.59828402 -0.58750455 -0.56044324 -0.51785007 -0.46090545\n",
      "  -0.3911875  -0.31062836 -0.22146062 -0.12615541 -0.027354    0.07220549\n",
      "   0.16976392]\n",
      " [ 0.45727263  0.45093631  0.43210294  0.40129448  0.35936473  0.30747571\n",
      "   0.24706545  0.17980814  0.1075677   0.03234619 -0.04377176 -0.11867663\n",
      "  -0.19029256 -0.2566348  -0.31586479 -0.36634105 -0.4066647  -0.43571823\n",
      "  -0.45269647 -0.45712889 -0.44889265 -0.42821601 -0.39567199 -0.3521625\n",
      "  -0.29889334 -0.23734078 -0.16921068 -0.09639115 -0.02090028  0.05516981\n",
      "   0.12971095]\n",
      " [ 0.30340047  0.29919632  0.28670038  0.26625896  0.23843856  0.20401019\n",
      "   0.16392797  0.11930273  0.07137119  0.0214617  -0.02904257 -0.07874197\n",
      "  -0.12625914 -0.17027724 -0.20957634 -0.24306735 -0.2698221  -0.28909912\n",
      "  -0.30036419 -0.3033051  -0.29784035 -0.2841214  -0.26252843 -0.23365988\n",
      "  -0.19831578 -0.15747565 -0.11227132 -0.06395554 -0.01386734  0.03660518\n",
      "   0.08606324]\n",
      " [ 0.14112001  0.13916454  0.13335233  0.12384446  0.11090442  0.09489082\n",
      "   0.07624747  0.05549102  0.03319673  0.00998243 -0.01350851 -0.03662508\n",
      "  -0.05872664 -0.07920069 -0.09747979 -0.11305739 -0.12550177 -0.13446805\n",
      "  -0.13970775 -0.14107565 -0.13853384 -0.13215278 -0.12210929 -0.10868172\n",
      "  -0.09224219 -0.07324631 -0.05222052 -0.0297475  -0.00645009  0.01702609\n",
      "   0.04003041]\n",
      " [-0.02507139 -0.02472398 -0.02369138 -0.02200221 -0.01970328 -0.01685831\n",
      "  -0.01354613 -0.00985854 -0.00589773 -0.00177348  0.00239992  0.00650681\n",
      "   0.01043338  0.0140708   0.01731826  0.02008578  0.02229665  0.0238896\n",
      "   0.02482048  0.0250635   0.02461193  0.02347827  0.02169394  0.0193084\n",
      "   0.01638775  0.01301294  0.0092775   0.00528494  0.00114592 -0.00302486\n",
      "  -0.0071118 ]\n",
      " [-0.19056796 -0.18792731 -0.18007852 -0.16723912 -0.14976493 -0.12814023\n",
      "  -0.10296431 -0.07493488 -0.04482875 -0.01348024  0.01824184  0.04945838\n",
      "   0.07930425  0.10695233  0.13163637  0.15267231  0.16947715  0.18158519\n",
      "   0.18866085  0.19050806  0.18707562  0.17845864  0.16489595  0.14676341\n",
      "   0.12456353  0.09891156  0.0705184   0.04017093  0.00871017 -0.02299197\n",
      "  -0.05405692]\n",
      " [-0.35078323 -0.34592251 -0.33147505 -0.30784124 -0.27567607 -0.23587094\n",
      "  -0.18952899 -0.13793452 -0.0825174  -0.02481342  0.03357822  0.09103928\n",
      "   0.14597733  0.19686983  0.24230637  0.28102774  0.31196084  0.33424841\n",
      "   0.34727276  0.35067296  0.34435478  0.3284933   0.30352811  0.27015109\n",
      "   0.22928722  0.18206899  0.12980499  0.07394363  0.01603303 -0.0423219\n",
      "  -0.09950394]\n",
      " [-0.50127705 -0.49433097 -0.47368523 -0.439912   -0.39394725 -0.33706483\n",
      "  -0.27084115 -0.1971115  -0.1179192  -0.03545894  0.04798402  0.13009716\n",
      "   0.20860486  0.28133137  0.3462612   0.40159491  0.445799    0.47764842\n",
      "   0.49626052  0.50111948  0.49209065  0.46942424  0.43374843  0.38605192\n",
      "   0.32765655  0.26018065  0.18549422  0.1056671   0.02291156 -0.06047893\n",
      "  -0.14219334]\n",
      " [-0.63787871 -0.62903977 -0.60276792 -0.55979123 -0.50130075 -0.42891745\n",
      "  -0.34464734 -0.25082582 -0.15005304 -0.04512175  0.06106001  0.16554959\n",
      "   0.26545121  0.35799623  0.44061991  0.51103246  0.56728248  0.60781111\n",
      "   0.63149514  0.6376782   0.62618895  0.59734578  0.55194805  0.49125389\n",
      "   0.41694535  0.33108177  0.23604275  0.13446215  0.02915513 -0.07695988\n",
      "  -0.18094207]\n",
      " [-0.7568025  -0.74631566 -0.71514577 -0.66415667 -0.59476144 -0.50888326\n",
      "  -0.40890213 -0.29758888 -0.17802838 -0.05353409  0.07244382  0.19641406\n",
      "   0.31494096  0.42473974  0.52276748  0.60630749  0.67304457  0.7211292\n",
      "   0.74922879  0.7565646   0.74293334  0.70871276  0.65485124  0.58284148\n",
      "   0.49467912  0.39280746  0.28004971  0.15953079  0.03459071 -0.09130801\n",
      "  -0.21467625]\n",
      " [-0.85475261 -0.8429085  -0.80770441 -0.75011598 -0.67173919 -0.57474612\n",
      "  -0.4618248  -0.33610469 -0.20106993 -0.06046281  0.08181995  0.22183519\n",
      "   0.35570259  0.47971222  0.59042732  0.68477959  0.7601542   0.81446225\n",
      "   0.84619867  0.85448393  0.83908841  0.8004388   0.73960619  0.65827647\n",
      "   0.55870359  0.44364705  0.31629549  0.18017826  0.03906765 -0.10312566\n",
      "  -0.24246099]\n",
      " [-0.9290145  -0.91614136 -0.87787871 -0.81528693 -0.73010066 -0.62468073\n",
      "  -0.50194868 -0.36530586 -0.21853912 -0.06571589  0.08892856  0.24110849\n",
      "   0.38660645  0.52139017  0.64172433  0.74427404  0.82619728  0.88522367\n",
      "   0.91971739  0.92872248  0.91198939  0.86998184  0.80386402  0.71546829\n",
      "   0.6072444   0.48219162  0.34377561  0.19583235  0.04246189 -0.11208534\n",
      "  -0.26352628]\n",
      " [-0.97753012 -0.96398471 -0.92372387 -0.85786338 -0.76822847 -0.65730322\n",
      "  -0.52816178 -0.3843831  -0.22995181 -0.06914775  0.09357265  0.25369982\n",
      "   0.40679607  0.54861856  0.67523689  0.78314201  0.8693435   0.93145241\n",
      "   0.96774748  0.97722284  0.95961591  0.91541462  0.84584395  0.75283196\n",
      "   0.63895633  0.50737296  0.36172849  0.20605924  0.04467937 -0.11793873\n",
      "  -0.27728833]\n",
      " [-0.99895492 -0.98511263 -0.94396939 -0.87666542 -0.78506594 -0.67170952\n",
      "  -0.53973765 -0.39280773 -0.23499173 -0.07066328  0.09562351  0.25926023\n",
      "   0.41571193  0.56064278  0.69003624  0.80030635  0.88839715  0.95186732\n",
      "   0.98895787  0.99864091  0.98064807  0.93547801  0.86438255  0.76933198\n",
      "   0.65296051  0.51849319  0.36965659  0.2105755   0.04565862 -0.12052363\n",
      "  -0.28336573]\n",
      " [-0.99269514 -0.9789396  -0.93805417 -0.87117195 -0.78014647 -0.66750037\n",
      "  -0.53635547 -0.39034627 -0.2335192  -0.07022048  0.0950243   0.25763562\n",
      "   0.41310694  0.55712961  0.68571225  0.79529138  0.88283016  0.94590261\n",
      "   0.98276074  0.9923831   0.97450302  0.929616    0.85896605  0.7645111\n",
      "   0.64886885  0.51524414  0.3673402   0.20925597  0.04537251 -0.11976839\n",
      "  -0.28159007]\n",
      " [-0.95892427 -0.94563668 -0.90614215 -0.84153522 -0.75360637 -0.64479242\n",
      "  -0.518109   -0.37706694 -0.22557502 -0.06783162  0.09179163  0.24887102\n",
      "   0.3990533   0.53817641  0.66238475  0.76823606  0.85279683  0.91372359\n",
      "   0.94932784  0.95862285  0.94135103  0.89799105  0.82974456  0.73850291\n",
      "   0.62679474  0.49771586  0.35484352  0.20213721  0.04382896 -0.11569394\n",
      "  -0.27201056]]\n"
     ]
    }
   ],
   "source": [
    "k=np.zeros((N, N))\n",
    "for i in range (1,N+1):\n",
    "    for j in range (1,N+1):\n",
    "        k[i-1,j-1]=np.sin(x[i-1])*np.cos(x[j-1])\n",
    "print (\"the values of kernel function is :\\n\",k)"
   ]
  },
  {
   "cell_type": "code",
   "execution_count": 41,
   "metadata": {},
   "outputs": [
    {
     "name": "stdout",
     "output_type": "stream",
     "text": [
      "the values of function f is : \n",
      " [ 0.          0.16589613  0.3271947   0.47942554  0.6183698   0.74017685\n",
      "  0.84147098  0.91944498  0.9719379   0.99749499  0.99540796  0.96573465\n",
      "  0.90929743  0.82766035  0.72308588  0.59847214  0.45727263  0.30340047\n",
      "  0.14112001 -0.02507139 -0.19056796 -0.35078323 -0.50127705 -0.63787871\n",
      " -0.7568025  -0.85475261 -0.9290145  -0.97753012 -0.99895492 -0.99269514\n",
      " -0.95892427]\n"
     ]
    }
   ],
   "source": [
    "f=np.zeros(N)\n",
    "for i in range(1,N+1):\n",
    "    f[i-1]=np.sin(x[i-1])\n",
    "print (\"the values of function f is : \\n\",f)"
   ]
  },
  {
   "cell_type": "code",
   "execution_count": 42,
   "metadata": {},
   "outputs": [],
   "source": [
    "def solve_LSAE(lamda): \n",
    "    B=np.zeros((N,N))#Store coefficient matrix\n",
    "    for i in range(1,N+1):\n",
    "        for j in range(1,N+1):\n",
    "            if i == j:\n",
    "                B[i-1,j-1]=1-lamda*A[j-1]*k[i-1,j-1]\n",
    "            else:\n",
    "                B[i-1,j-1]=-lamda*A[j-1]*k[i-1,j-1]\n",
    "    rhs=np.array(f,dtype='float')\n",
    "    C=np.linalg.solve(B,rhs) #solve C\n",
    "    return C "
   ]
  },
  {
   "cell_type": "code",
   "execution_count": 43,
   "metadata": {},
   "outputs": [
    {
     "data": {
      "text/plain": [
       "array([ 0.        ,  0.30710123,  0.60569159,  0.8874961 ,  1.14470496,\n",
       "        1.37018999,  1.55770221,  1.70204499,  1.79921809,  1.84652849,\n",
       "        1.84266505,  1.78773485,  1.68326019,  1.53213644,  1.33855177,\n",
       "        1.10787109,  0.84648739,  0.56164453,  0.26123652, -0.04641129,\n",
       "       -0.35277287, -0.64935787, -0.92794687, -1.18081918, -1.40096681,\n",
       "       -1.58228869, -1.71975976, -1.80957021, -1.84923106, -1.83764318,\n",
       "       -1.77512771])"
      ]
     },
     "execution_count": 43,
     "metadata": {},
     "output_type": "execute_result"
    }
   ],
   "source": [
    "ya=np.zeros(N)\n",
    "ya=solve_LSAE(1)\n",
    "ya"
   ]
  },
  {
   "cell_type": "code",
   "execution_count": 44,
   "metadata": {},
   "outputs": [
    {
     "data": {
      "text/plain": [
       "array([ 0.        ,  0.15661449,  0.30888864,  0.45260239,  0.58377293,\n",
       "        0.69876506,  0.79439194,  0.8680034 ,  0.91755942,  0.94168663,\n",
       "        0.93971636,  0.91170324,  0.85842359,  0.78135399,  0.6826303 ,\n",
       "        0.56498852,  0.4316889 ,  0.28642566,  0.13322455, -0.02366868,\n",
       "       -0.17990597, -0.33115743, -0.47323134, -0.60219035, -0.71446052,\n",
       "       -0.80693047, -0.87703752, -0.92283876, -0.94306488, -0.93715533,\n",
       "       -0.90527389])"
      ]
     },
     "execution_count": 44,
     "metadata": {},
     "output_type": "execute_result"
    }
   ],
   "source": [
    "y=np.zeros(N)\n",
    "for i in range(1,N+1):\n",
    "    temp=0\n",
    "    for j in range(1,N+1):\n",
    "            temp=1*A[j-1]*k[i-1,j-1]*ya[j-1]\n",
    "            temp+=temp\n",
    "    y[i-1]=f[i-1]+temp\n",
    "y"
   ]
  },
  {
   "cell_type": "code",
   "execution_count": 45,
   "metadata": {},
   "outputs": [
    {
     "data": {
      "text/plain": [
       "array([ 0.        ,  0.33179227,  0.65438939,  0.95885108,  1.23673961,\n",
       "        1.48035371,  1.68294197,  1.83888996,  1.9438758 ,  1.99498997,\n",
       "        1.99081592,  1.93146931,  1.81859485,  1.6553207 ,  1.44617176,\n",
       "        1.19694429,  0.91454525,  0.60680093,  0.28224002, -0.05014277,\n",
       "       -0.38113593, -0.70156646, -1.0025541 , -1.27575742, -1.51360499,\n",
       "       -1.70950521, -1.858029  , -1.95506024, -1.99790983, -1.98539029,\n",
       "       -1.91784855])"
      ]
     },
     "execution_count": 45,
     "metadata": {},
     "output_type": "execute_result"
    }
   ],
   "source": [
    "yy=np.zeros(N)\n",
    "for i in range(1,N+1):\n",
    "    yy[i-1]=2*np.sin(x[i-1])\n",
    "yy\n"
   ]
  },
  {
   "cell_type": "code",
   "execution_count": 46,
   "metadata": {},
   "outputs": [
    {
     "data": {
      "image/png": "[encoded data removed]",
      "text/plain": [
       "<Figure size 432x288 with 1 Axes>"
      ]
     },
     "metadata": {
      "needs_background": "light"
     },
     "output_type": "display_data"
    }
   ],
   "source": [
    "import matplotlib.pyplot as plt\n",
    "plt.plot(x, ya, 'r--', x, yy, 'bs')\n",
    "plt.show()"
   ]
  }
 ],
 "metadata": {
  "kernelspec": {
   "display_name": "Python 3 (ipykernel)",
   "language": "python",
   "name": "python3"
  },
  "language_info": {
   "codemirror_mode": {
    "name": "ipython",
    "version": 3
   },
   "file_extension": ".py",
   "mimetype": "text/x-python",
   "name": "python",
   "nbconvert_exporter": "python",
   "pygments_lexer": "ipython3",
   "version": "3.8.8"
  }
 },
 "nbformat": 4,
 "nbformat_minor": 2
}
